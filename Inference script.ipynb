{
  "metadata": {
    "kernelspec": {
      "name": "python",
      "display_name": "Python (Pyodide)",
      "language": "python"
    },
    "language_info": {
      "codemirror_mode": {
        "name": "python",
        "version": 3
      },
      "file_extension": ".py",
      "mimetype": "text/x-python",
      "name": "python",
      "nbconvert_exporter": "python",
      "pygments_lexer": "ipython3",
      "version": "3.8"
    }
  },
  "nbformat_minor": 5,
  "nbformat": 4,
  "cells": [
    {
      "id": "87b342cd-f677-4bb9-b4db-9422b71715a0",
      "cell_type": "code",
      "source": "# Install necessary libraries\n!pip install transformers unsloth axolotl torch datasets\n\n# Import libraries\nfrom transformers import QwenForCausalLM, QwenTokenizer\nimport torch\nfrom datasets import load_dataset\n",
      "metadata": {
        "trusted": true
      },
      "outputs": [],
      "execution_count": null
    },
    {
      "id": "616916b5-ac7b-4d4d-aa3b-643b8f9c817a",
      "cell_type": "code",
      "source": "# Example: Use custom datasets or download a set of AI research papers\n# Here we will assume that you have a dataset of papers\n\n# For demonstration purposes, we can use HuggingFace's datasets like 'arxiv' or 'ai2_arc' (for research papers).\ndataset = load_dataset('ai2_arc', 'long')\n\n# Preprocess the dataset (tokenize and clean)\ndef preprocess_function(examples):\n    return tokenizer(examples['question'], padding=\"max_length\", truncation=True, max_length=512)\n\ntokenizer = QwenTokenizer.from_pretrained(\"Qwen/Qwen2.5-3B\")\n\ntrain_dataset = dataset[\"train\"].map(preprocess_function, batched=True)\nval_dataset = dataset[\"validation\"].map(preprocess_function, batched=True)\ntest_dataset = dataset[\"test\"].map(preprocess_function, batched=True)\n\n# Save processed datasets for future use\ntrain_dataset.save_to_disk('train_dataset')\nval_dataset.save_to_disk('val_dataset')\ntest_dataset.save_to_disk('test_dataset')\n",
      "metadata": {
        "trusted": true
      },
      "outputs": [],
      "execution_count": null
    },
    {
      "id": "6bb606e2-619e-4a9f-abae-b89109ac9697",
      "cell_type": "code",
      "source": "from transformers import Trainer, TrainingArguments\n\n# Load pre-trained model\nmodel = QwenForCausalLM.from_pretrained(\"Qwen/Qwen2.5-3B-Instruct\")\n\n# Define training arguments\ntraining_args = TrainingArguments(\n    output_dir=\"./results\",\n    evaluation_strategy=\"epoch\",\n    learning_rate=5e-5,\n    per_device_train_batch_size=4,\n    per_device_eval_batch_size=4,\n    num_train_epochs=3,\n    weight_decay=0.01,\n)\n\n# Define Trainer\ntrainer = Trainer(\n    model=model,\n    args=training_args,\n    train_dataset=train_dataset,\n    eval_dataset=val_dataset,\n)\n\n# Train the model\ntrainer.train()\n",
      "metadata": {
        "trusted": true
      },
      "outputs": [],
      "execution_count": null
    },
    {
      "id": "d6e63247-da3e-480e-8583-709ce42a3292",
      "cell_type": "code",
      "source": "from sklearn.metrics import accuracy_score\n\n# Generate predictions on the test set\npredictions = trainer.predict(test_dataset)\n\n# Evaluate using accuracy\naccuracy = accuracy_score(predictions.predictions.argmax(axis=-1), test_dataset[\"label\"])\nprint(f\"Test Accuracy: {accuracy}\")\n",
      "metadata": {
        "trusted": true
      },
      "outputs": [],
      "execution_count": null
    },
    {
      "id": "7a90ad08-5b61-4304-9d2c-ee3eeeb13a38",
      "cell_type": "code",
      "source": "from transformers import AutoModelForCausalLM, AutoTokenizer\nimport torch\nfrom transformers import pipeline\n\n# Load quantized model (you would use a suitable quantization method)\nmodel = QwenForCausalLM.from_pretrained(\"path_to_quantized_model\")\n\n# Save model as .gguf format\n# The following is just an example, as actual .gguf quantization is specific to certain frameworks\nmodel.save_pretrained(\"quantized_model.gguf\")\n\n# Inference pipeline\ngenerator = pipeline('text-generation', model=model, tokenizer=model)\n\ndef generate_answer(question):\n    return generator(question, max_length=100)[0]['generated_text']\n\n# Test inference\nquestion = \"What is the impact of reinforcement learning in AI?\"\nanswer = generate_answer(question)\nprint(answer)\n",
      "metadata": {
        "trusted": true
      },
      "outputs": [],
      "execution_count": null
    },
    {
      "id": "49a5cd2e-2f80-4feb-8712-b35acaf5ad93",
      "cell_type": "code",
      "source": "from transformers import RagTokenizer, RagRetriever, RagSequenceForGeneration\n\n# Load a RAG model\nrag_model = RagSequenceForGeneration.from_pretrained(\"facebook/rag-sequence-nq\")\n\n# Define retriever\nrag_tokenizer = RagTokenizer.from_pretrained(\"facebook/rag-tokenizer-nq\")\nrag_retriever = RagRetriever.from_pretrained(\"facebook/rag-tokenizer-nq\")\n\n# Inference with RAG\ndef rag_inference(question):\n    inputs = rag_tokenizer(question, return_tensors=\"pt\")\n    outputs = rag_model.generate(input_ids=inputs[\"input_ids\"])\n    return rag_tokenizer.decode(outputs[0], skip_special_tokens=True)\n\n# Test RAG\nrag_answer = rag_inference(\"What is reinforcement learning?\")\nprint(rag_answer)\n",
      "metadata": {
        "trusted": true
      },
      "outputs": [],
      "execution_count": null
    },
    {
      "id": "e76d819c-7370-4fde-9efd-b66e15ae5db6",
      "cell_type": "code",
      "source": "",
      "metadata": {
        "trusted": true
      },
      "outputs": [],
      "execution_count": null
    }
  ]
}